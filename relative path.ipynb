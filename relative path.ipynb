{
 "cells": [
  {
   "cell_type": "code",
   "execution_count": 1,
   "id": "28a7d148",
   "metadata": {},
   "outputs": [],
   "source": [
    "from frictionless import system, Package"
   ]
  },
  {
   "cell_type": "code",
   "execution_count": 2,
   "id": "4888d833",
   "metadata": {},
   "outputs": [
    {
     "ename": "FrictionlessException",
     "evalue": "[package-error] The data package has an error: descriptor is not valid (The data resource has an error: path \"../../tools/import/dbpedia/dbpedia.sparql\" is not safe) (The data resource has an error: path \"../../tools/import/dbpedia/dbpedia-pt.sparql\" is not safe)",
     "output_type": "error",
     "traceback": [
      "\u001b[0;31m---------------------------------------------------------------------------\u001b[0m",
      "\u001b[0;31mFrictionlessException\u001b[0m                     Traceback (most recent call last)",
      "Cell \u001b[0;32mIn[2], line 1\u001b[0m\n\u001b[0;32m----> 1\u001b[0m \u001b[43mPackage\u001b[49m\u001b[43m(\u001b[49m\u001b[38;5;124;43m'\u001b[39;49m\u001b[38;5;124;43m./sources/dbpedia/datapackage.json\u001b[39;49m\u001b[38;5;124;43m'\u001b[39;49m\u001b[43m)\u001b[49m\n",
      "File \u001b[0;32m~/frictionless/framework/frictionless/metadata.py:42\u001b[0m, in \u001b[0;36mMetaclass.__call__\u001b[0;34m(cls, *args, **kwargs)\u001b[0m\n\u001b[1;32m     40\u001b[0m obj \u001b[38;5;241m=\u001b[39m \u001b[38;5;28;01mNone\u001b[39;00m\n\u001b[1;32m     41\u001b[0m \u001b[38;5;28;01mif\u001b[39;00m \u001b[38;5;28mhasattr\u001b[39m(\u001b[38;5;28mcls\u001b[39m, \u001b[38;5;124m\"\u001b[39m\u001b[38;5;124m__create__\u001b[39m\u001b[38;5;124m\"\u001b[39m):\n\u001b[0;32m---> 42\u001b[0m     obj \u001b[38;5;241m=\u001b[39m \u001b[38;5;28;43mcls\u001b[39;49m\u001b[38;5;241;43m.\u001b[39;49m\u001b[43m__create__\u001b[49m\u001b[43m(\u001b[49m\u001b[38;5;241;43m*\u001b[39;49m\u001b[43margs\u001b[49m\u001b[43m,\u001b[49m\u001b[43m \u001b[49m\u001b[38;5;241;43m*\u001b[39;49m\u001b[38;5;241;43m*\u001b[39;49m\u001b[43mkwargs\u001b[49m\u001b[43m)\u001b[49m  \u001b[38;5;66;03m# type: ignore\u001b[39;00m\n\u001b[1;32m     43\u001b[0m \u001b[38;5;28;01mif\u001b[39;00m obj \u001b[38;5;241m==\u001b[39m \u001b[38;5;28;01mNone\u001b[39;00m:\n\u001b[1;32m     44\u001b[0m     obj \u001b[38;5;241m=\u001b[39m \u001b[38;5;28mtype\u001b[39m\u001b[38;5;241m.\u001b[39m\u001b[38;5;21m__call__\u001b[39m(\u001b[38;5;28mcls\u001b[39m, \u001b[38;5;241m*\u001b[39margs, \u001b[38;5;241m*\u001b[39m\u001b[38;5;241m*\u001b[39mkwargs)\n",
      "File \u001b[0;32m~/frictionless/framework/frictionless/package/package.py:204\u001b[0m, in \u001b[0;36mPackage.__create__\u001b[0;34m(cls, source, control, **options)\u001b[0m\n\u001b[1;32m    201\u001b[0m     \u001b[38;5;28;01mreturn\u001b[39;00m \u001b[38;5;28mcls\u001b[39m\u001b[38;5;241m.\u001b[39mfrom_options(\u001b[38;5;241m*\u001b[39m\u001b[38;5;241m*\u001b[39moptions)\n\u001b[1;32m    203\u001b[0m \u001b[38;5;66;03m# Descriptor\u001b[39;00m\n\u001b[0;32m--> 204\u001b[0m \u001b[38;5;28;01mreturn\u001b[39;00m \u001b[38;5;28;43mcls\u001b[39;49m\u001b[38;5;241;43m.\u001b[39;49m\u001b[43mfrom_descriptor\u001b[49m\u001b[43m(\u001b[49m\u001b[43msource\u001b[49m\u001b[43m,\u001b[49m\u001b[43m \u001b[49m\u001b[38;5;241;43m*\u001b[39;49m\u001b[38;5;241;43m*\u001b[39;49m\u001b[43moptions\u001b[49m\u001b[43m)\u001b[49m\n",
      "File \u001b[0;32m~/frictionless/framework/frictionless/metadata.py:176\u001b[0m, in \u001b[0;36mMetadata.from_descriptor\u001b[0;34m(cls, descriptor, **options)\u001b[0m\n\u001b[1;32m    174\u001b[0m \u001b[38;5;28;01mif\u001b[39;00m errors:\n\u001b[1;32m    175\u001b[0m     error \u001b[38;5;241m=\u001b[39m Error(note\u001b[38;5;241m=\u001b[39m\u001b[38;5;124m\"\u001b[39m\u001b[38;5;124mdescriptor is not valid\u001b[39m\u001b[38;5;124m\"\u001b[39m)\n\u001b[0;32m--> 176\u001b[0m     \u001b[38;5;28;01mraise\u001b[39;00m FrictionlessException(error, reasons\u001b[38;5;241m=\u001b[39merrors)\n\u001b[1;32m    177\u001b[0m metadata \u001b[38;5;241m=\u001b[39m Class\u001b[38;5;241m.\u001b[39mmetadata_import(descriptor, \u001b[38;5;241m*\u001b[39m\u001b[38;5;241m*\u001b[39mhelpers\u001b[38;5;241m.\u001b[39mremove_non_values(options))\n\u001b[1;32m    178\u001b[0m \u001b[38;5;28;01mreturn\u001b[39;00m metadata\n",
      "\u001b[0;31mFrictionlessException\u001b[0m: [package-error] The data package has an error: descriptor is not valid (The data resource has an error: path \"../../tools/import/dbpedia/dbpedia.sparql\" is not safe) (The data resource has an error: path \"../../tools/import/dbpedia/dbpedia-pt.sparql\" is not safe)"
     ]
    }
   ],
   "source": [
    "Package('./sources/dbpedia/datapackage.json')"
   ]
  },
  {
   "cell_type": "code",
   "execution_count": 5,
   "id": "84953ae8",
   "metadata": {},
   "outputs": [],
   "source": [
    "with system.use_context(trusted=True):\n",
    "    Package('./sources/dbpedia/datapackage.json')"
   ]
  }
 ],
 "metadata": {
  "kernelspec": {
   "display_name": "Python 3 (ipykernel)",
   "language": "python",
   "name": "python3"
  },
  "language_info": {
   "codemirror_mode": {
    "name": "ipython",
    "version": 3
   },
   "file_extension": ".py",
   "mimetype": "text/x-python",
   "name": "python",
   "nbconvert_exporter": "python",
   "pygments_lexer": "ipython3",
   "version": "3.10.6"
  }
 },
 "nbformat": 4,
 "nbformat_minor": 5
}
