{
 "cells": [
  {
   "cell_type": "code",
   "execution_count": 5,
   "id": "7853c8f8",
   "metadata": {
    "scrolled": false
   },
   "outputs": [],
   "source": [
    "from frictionless import Package,validate\n"
   ]
  },
  {
   "cell_type": "code",
   "execution_count": 17,
   "id": "8f683a58",
   "metadata": {},
   "outputs": [],
   "source": [
    "p = Package('datapackage.json')"
   ]
  },
  {
   "cell_type": "code",
   "execution_count": 12,
   "id": "9639be9d",
   "metadata": {
    "scrolled": false
   },
   "outputs": [
    {
     "data": {
      "text/plain": [
       "{'fields': [{'name': 'label', 'type': 'string', 'format': 'default'},\n",
       "            {'name': 'unit-type', 'type': 'string', 'format': 'default'},\n",
       "            {'name': 'position', 'type': 'string', 'format': 'default'},\n",
       "            {'name': 'period', 'type': 'integer', 'format': 'default'},\n",
       "            {'name': 'phase', 'type': 'integer', 'format': 'default'},\n",
       "            {'name': 'url', 'type': 'string', 'format': 'default'}],\n",
       " 'missingValues': [''],\n",
       " 'primaryKey': ['label'],\n",
       " 'foreignKeys': [{'fields': ['period'],\n",
       "                  'reference': {'resource': 'periods', 'fields': ['id']}},\n",
       "                 {'fields': ['phase'],\n",
       "                  'reference': {'resource': 'phases', 'fields': ['id']}}]}"
      ]
     },
     "execution_count": 12,
     "metadata": {},
     "output_type": "execute_result"
    }
   ],
   "source": [
    "resource_1 = p.resources[0].schema"
   ]
  },
  {
   "cell_type": "code",
   "execution_count": 11,
   "id": "b368f535",
   "metadata": {},
   "outputs": [
    {
     "data": {
      "text/plain": [
       "{'variableTypes': {},\n",
       " 'notNullRows': 10,\n",
       " 'rowsWithNullValues': 9,\n",
       " 'fieldStats': {},\n",
       " 'averageRecordSizeInBytes': 52.63157894736842,\n",
       " 'timeTaken': 0.044,\n",
       " 'md5': 'bd6153d9500f23e17f58535086ce9043',\n",
       " 'sha256': 'e6c6e3ae3890f033f1cb53ec62384871566ce51c022168a8272bd547f62bda68',\n",
       " 'bytes': 1000,\n",
       " 'fields': 6,\n",
       " 'rows': 19}"
      ]
     },
     "execution_count": 11,
     "metadata": {},
     "output_type": "execute_result"
    }
   ],
   "source": [
    "res"
   ]
  },
  {
   "cell_type": "code",
   "execution_count": null,
   "id": "c767265b",
   "metadata": {},
   "outputs": [],
   "source": []
  }
 ],
 "metadata": {
  "kernelspec": {
   "display_name": "Python 3 (ipykernel)",
   "language": "python",
   "name": "python3"
  },
  "language_info": {
   "codemirror_mode": {
    "name": "ipython",
    "version": 3
   },
   "file_extension": ".py",
   "mimetype": "text/x-python",
   "name": "python",
   "nbconvert_exporter": "python",
   "pygments_lexer": "ipython3",
   "version": "3.8.12"
  }
 },
 "nbformat": 4,
 "nbformat_minor": 5
}
