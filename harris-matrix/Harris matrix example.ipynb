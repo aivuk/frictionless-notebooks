{
 "cells": [
  {
   "cell_type": "code",
   "execution_count": 5,
   "id": "7853c8f8",
   "metadata": {
    "scrolled": false
   },
   "outputs": [],
   "source": [
    "from frictionless import Package,validate\n"
   ]
  },
  {
   "cell_type": "markdown",
   "id": "d91a86ea",
   "metadata": {},
   "source": [
    "# Load Harris Matrix datapackage"
   ]
  },
  {
   "cell_type": "code",
   "execution_count": 17,
   "id": "8f683a58",
   "metadata": {},
   "outputs": [],
   "source": [
    "p = Package('datapackage.json')"
   ]
  },
  {
   "cell_type": "markdown",
   "id": "52c762c3",
   "metadata": {},
   "source": [
    "# Access first resource schema"
   ]
  },
  {
   "cell_type": "code",
   "execution_count": 21,
   "id": "9639be9d",
   "metadata": {
    "scrolled": false
   },
   "outputs": [
    {
     "data": {
      "text/plain": [
       "{'fields': [{'name': 'label', 'type': 'string', 'format': 'default'},\n",
       "            {'name': 'unit-type', 'type': 'string', 'format': 'default'},\n",
       "            {'name': 'position', 'type': 'string', 'format': 'default'},\n",
       "            {'name': 'period', 'type': 'integer', 'format': 'default'},\n",
       "            {'name': 'phase', 'type': 'integer', 'format': 'default'},\n",
       "            {'name': 'url', 'type': 'string', 'format': 'default'}],\n",
       " 'missingValues': [''],\n",
       " 'primaryKey': ['label'],\n",
       " 'foreignKeys': [{'fields': ['period'],\n",
       "                  'reference': {'resource': 'periods', 'fields': ['id']}},\n",
       "                 {'fields': ['phase'],\n",
       "                  'reference': {'resource': 'phases', 'fields': ['id']}}]}"
      ]
     },
     "execution_count": 21,
     "metadata": {},
     "output_type": "execute_result"
    }
   ],
   "source": [
    "resource_1 = p.resources[0].schema\n",
    "resource_1"
   ]
  },
  {
   "cell_type": "markdown",
   "id": "e0da36e4",
   "metadata": {},
   "source": [
    "# Save resource schema to a file"
   ]
  },
  {
   "cell_type": "code",
   "execution_count": 22,
   "id": "a3c43888",
   "metadata": {},
   "outputs": [
    {
     "data": {
      "text/plain": [
       "'{\\n  \"fields\": [\\n    {\\n      \"name\": \"label\",\\n      \"type\": \"string\",\\n      \"format\": \"default\"\\n    },\\n    {\\n      \"name\": \"unit-type\",\\n      \"type\": \"string\",\\n      \"format\": \"default\"\\n    },\\n    {\\n      \"name\": \"position\",\\n      \"type\": \"string\",\\n      \"format\": \"default\"\\n    },\\n    {\\n      \"name\": \"period\",\\n      \"type\": \"integer\",\\n      \"format\": \"default\"\\n    },\\n    {\\n      \"name\": \"phase\",\\n      \"type\": \"integer\",\\n      \"format\": \"default\"\\n    },\\n    {\\n      \"name\": \"url\",\\n      \"type\": \"string\",\\n      \"format\": \"default\"\\n    }\\n  ],\\n  \"missingValues\": [\\n    \"\"\\n  ],\\n  \"primaryKey\": [\\n    \"label\"\\n  ],\\n  \"foreignKeys\": [\\n    {\\n      \"fields\": [\\n        \"period\"\\n      ],\\n      \"reference\": {\\n        \"resource\": \"periods\",\\n        \"fields\": [\\n          \"id\"\\n        ]\\n      }\\n    },\\n    {\\n      \"fields\": [\\n        \"phase\"\\n      ],\\n      \"reference\": {\\n        \"resource\": \"phases\",\\n        \"fields\": [\\n          \"id\"\\n        ]\\n      }\\n    }\\n  ]\\n}'"
      ]
     },
     "execution_count": 22,
     "metadata": {},
     "output_type": "execute_result"
    }
   ],
   "source": [
    "resource_1.to_json('resource.json')"
   ]
  },
  {
   "cell_type": "code",
   "execution_count": 23,
   "id": "729fa63c",
   "metadata": {},
   "outputs": [
    {
     "name": "stdout",
     "output_type": "stream",
     "text": [
      "{\r\n",
      "  \"fields\": [\r\n",
      "    {\r\n",
      "      \"name\": \"label\",\r\n",
      "      \"type\": \"string\",\r\n",
      "      \"format\": \"default\"\r\n",
      "    },\r\n",
      "    {\r\n",
      "      \"name\": \"unit-type\",\r\n",
      "      \"type\": \"string\",\r\n",
      "      \"format\": \"default\"\r\n",
      "    },\r\n",
      "    {\r\n",
      "      \"name\": \"position\",\r\n",
      "      \"type\": \"string\",\r\n",
      "      \"format\": \"default\"\r\n",
      "    },\r\n",
      "    {\r\n",
      "      \"name\": \"period\",\r\n",
      "      \"type\": \"integer\",\r\n",
      "      \"format\": \"default\"\r\n",
      "    },\r\n",
      "    {\r\n",
      "      \"name\": \"phase\",\r\n",
      "      \"type\": \"integer\",\r\n",
      "      \"format\": \"default\"\r\n",
      "    },\r\n",
      "    {\r\n",
      "      \"name\": \"url\",\r\n",
      "      \"type\": \"string\",\r\n",
      "      \"format\": \"default\"\r\n",
      "    }\r\n",
      "  ],\r\n",
      "  \"missingValues\": [\r\n",
      "    \"\"\r\n",
      "  ],\r\n",
      "  \"primaryKey\": [\r\n",
      "    \"label\"\r\n",
      "  ],\r\n",
      "  \"foreignKeys\": [\r\n",
      "    {\r\n",
      "      \"fields\": [\r\n",
      "        \"period\"\r\n",
      "      ],\r\n",
      "      \"reference\": {\r\n",
      "        \"resource\": \"periods\",\r\n",
      "        \"fields\": [\r\n",
      "          \"id\"\r\n",
      "        ]\r\n",
      "      }\r\n",
      "    },\r\n",
      "    {\r\n",
      "      \"fields\": [\r\n",
      "        \"phase\"\r\n",
      "      ],\r\n",
      "      \"reference\": {\r\n",
      "        \"resource\": \"phases\",\r\n",
      "        \"fields\": [\r\n",
      "          \"id\"\r\n",
      "        ]\r\n",
      "      }\r\n",
      "    }\r\n",
      "  ]\r\n",
      "}"
     ]
    }
   ],
   "source": [
    "!cat resource.json"
   ]
  },
  {
   "cell_type": "code",
   "execution_count": null,
   "id": "d42d60f1",
   "metadata": {},
   "outputs": [],
   "source": []
  }
 ],
 "metadata": {
  "kernelspec": {
   "display_name": "Python 3 (ipykernel)",
   "language": "python",
   "name": "python3"
  },
  "language_info": {
   "codemirror_mode": {
    "name": "ipython",
    "version": 3
   },
   "file_extension": ".py",
   "mimetype": "text/x-python",
   "name": "python",
   "nbconvert_exporter": "python",
   "pygments_lexer": "ipython3",
   "version": "3.8.12"
  }
 },
 "nbformat": 4,
 "nbformat_minor": 5
}
