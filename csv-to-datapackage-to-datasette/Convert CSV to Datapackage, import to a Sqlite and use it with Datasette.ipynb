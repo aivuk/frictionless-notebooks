{
 "cells": [
  {
   "cell_type": "markdown",
   "id": "bd3f0531",
   "metadata": {},
   "source": [
    "# Download the csv from Global Data Barometer\n",
    "\n",
    "https://globaldatabarometer.org/open-data/ in \"Download All\""
   ]
  },
  {
   "cell_type": "code",
   "execution_count": 7,
   "id": "9a47f42d",
   "metadata": {},
   "outputs": [],
   "source": [
    "!frictionless describe gdb-2021-full-dataset.csv --type package --json > datapackage.json"
   ]
  },
  {
   "cell_type": "code",
   "execution_count": 8,
   "id": "1d4d57ec",
   "metadata": {
    "scrolled": false
   },
   "outputs": [
    {
     "name": "stdout",
     "output_type": "stream",
     "text": [
      "{\r\n",
      "  \"resources\": [\r\n",
      "    {\r\n",
      "      \"path\": \"gdb-2021-full-dataset.csv\",\r\n",
      "      \"name\": \"gdb-2021-full-dataset\",\r\n",
      "      \"profile\": \"tabular-data-resource\",\r\n",
      "      \"scheme\": \"file\",\r\n",
      "      \"format\": \"csv\",\r\n",
      "      \"hashing\": \"md5\",\r\n",
      "      \"encoding\": \"cp1252\",\r\n",
      "      \"schema\": {\r\n",
      "        \"fields\": [\r\n",
      "          {\r\n",
      "            \"type\": \"string\",\r\n",
      "            \"name\": \"iso3\"\r\n",
      "          },\r\n",
      "          {\r\n",
      "            \"type\": \"string\",\r\n",
      "            \"name\": \"country\"\r\n",
      "          },\r\n",
      "          {\r\n",
      "            \"type\": \"string\",\r\n",
      "            \"name\": \"pillar\"\r\n",
      "          },\r\n",
      "          {\r\n",
      "            \"type\": \"string\",\r\n",
      "            \"name\": \"module\"\r\n",
      "          },\r\n",
      "          {\r\n",
      "            \"type\": \"string\",\r\n",
      "            \"name\": \"indicator_id\"\r\n",
      "          },\r\n",
      "          {\r\n",
      "            \"type\": \"string\",\r\n",
      "            \"name\": \"indicator_name\"\r\n",
      "          },\r\n",
      "          {\r\n",
      "            \"type\": \"string\",\r\n",
      "            \"name\": \"indicator_type\"\r\n",
      "          },\r\n",
      "          {\r\n",
      "            \"type\": \"string\",\r\n",
      "            \"name\": \"variable_name\"\r\n",
      "          },\r\n",
      "          {\r\n",
      "            \"type\": \"string\",\r\n",
      "            \"name\": \"question\"\r\n",
      "          },\r\n",
      "          {\r\n",
      "            \"type\": \"integer\",\r\n",
      "            \"name\": \"hierarchy_level\"\r\n",
      "          },\r\n",
      "          {\r\n",
      "            \"type\": \"string\",\r\n",
      "            \"name\": \"data_type\"\r\n",
      "          },\r\n",
      "          {\r\n",
      "            \"type\": \"string\",\r\n",
      "            \"name\": \"response\"\r\n",
      "          },\r\n",
      "          {\r\n",
      "            \"type\": \"integer\",\r\n",
      "            \"name\": \"response_value\"\r\n",
      "          },\r\n",
      "          {\r\n",
      "            \"type\": \"number\",\r\n",
      "            \"name\": \"normalized_response_value\"\r\n",
      "          },\r\n",
      "          {\r\n",
      "            \"type\": \"number\",\r\n",
      "            \"name\": \"weight\"\r\n",
      "          },\r\n",
      "          {\r\n",
      "            \"type\": \"number\",\r\n",
      "            \"name\": \"score\"\r\n",
      "          },\r\n",
      "          {\r\n",
      "            \"type\": \"string\",\r\n",
      "            \"name\": \"parent\"\r\n",
      "          },\r\n",
      "          {\r\n",
      "            \"type\": \"number\",\r\n",
      "            \"name\": \"row_order\"\r\n",
      "          },\r\n",
      "          {\r\n",
      "            \"type\": \"integer\",\r\n",
      "            \"name\": \"question_order\"\r\n",
      "          },\r\n",
      "          {\r\n",
      "            \"type\": \"number\",\r\n",
      "            \"name\": \"wip\"\r\n",
      "          },\r\n",
      "          {\r\n",
      "            \"type\": \"number\",\r\n",
      "            \"name\": \"wib\"\r\n",
      "          },\r\n",
      "          {\r\n",
      "            \"type\": \"number\",\r\n",
      "            \"name\": \"wim\"\r\n",
      "          },\r\n",
      "          {\r\n",
      "            \"type\": \"string\",\r\n",
      "            \"name\": \"regional_hub\"\r\n",
      "          },\r\n",
      "          {\r\n",
      "            \"type\": \"string\",\r\n",
      "            \"name\": \"un_region\"\r\n",
      "          },\r\n",
      "          {\r\n",
      "            \"type\": \"string\",\r\n",
      "            \"name\": \"barometer_region\"\r\n",
      "          }\r\n",
      "        ]\r\n",
      "      }\r\n",
      "    }\r\n",
      "  ],\r\n",
      "  \"profile\": \"data-package\"\r\n",
      "}\r\n"
     ]
    }
   ],
   "source": [
    "!cat datapackage.json"
   ]
  },
  {
   "cell_type": "code",
   "execution_count": 11,
   "id": "533ae068",
   "metadata": {},
   "outputs": [],
   "source": [
    "from datapackage_convert import datapackage_to_sqlite"
   ]
  },
  {
   "cell_type": "code",
   "execution_count": 12,
   "id": "e6c6cb00",
   "metadata": {},
   "outputs": [],
   "source": [
    "datapackage_to_sqlite('gdb.db', 'datapackage.json')"
   ]
  },
  {
   "cell_type": "markdown",
   "id": "cca1db5c",
   "metadata": {},
   "source": [
    "# Install https://datasette.io/"
   ]
  },
  {
   "cell_type": "code",
   "execution_count": null,
   "id": "a2920625",
   "metadata": {
    "scrolled": true
   },
   "outputs": [],
   "source": [
    "!pip install datasette"
   ]
  },
  {
   "cell_type": "markdown",
   "id": "5b82cae8",
   "metadata": {},
   "source": [
    "# Run datasette with the previous generated sqlite db"
   ]
  },
  {
   "cell_type": "code",
   "execution_count": 4,
   "id": "2e39315c",
   "metadata": {
    "scrolled": false
   },
   "outputs": [
    {
     "name": "stdout",
     "output_type": "stream",
     "text": [
      "\u001b[32mINFO\u001b[0m:     Started server process [\u001b[36m114045\u001b[0m]\n",
      "\u001b[32mINFO\u001b[0m:     Waiting for application startup.\n",
      "\u001b[32mINFO\u001b[0m:     Application startup complete.\n",
      "\u001b[32mINFO\u001b[0m:     Uvicorn running on \u001b[1mhttp://127.0.0.1:8001\u001b[0m (Press CTRL+C to quit)\n",
      "\u001b[32mINFO\u001b[0m:     127.0.0.1:45442 - \"\u001b[1mGET / HTTP/1.1\u001b[0m\" \u001b[32m200 OK\u001b[0m\n",
      "\u001b[32mINFO\u001b[0m:     127.0.0.1:45442 - \"\u001b[1mGET /-/static/app.css?cead5a HTTP/1.1\u001b[0m\" \u001b[32m200 OK\u001b[0m\n",
      "\u001b[32mINFO\u001b[0m:     127.0.0.1:45442 - \"\u001b[1mGET /gdb HTTP/1.1\u001b[0m\" \u001b[32m200 OK\u001b[0m\n",
      "\u001b[32mINFO\u001b[0m:     127.0.0.1:45442 - \"\u001b[1mGET /-/static/app.css?cead5a HTTP/1.1\u001b[0m\" \u001b[32m200 OK\u001b[0m\n",
      "\u001b[32mINFO\u001b[0m:     127.0.0.1:45444 - \"\u001b[1mGET /-/static/codemirror-5.57.0.min.js HTTP/1.1\u001b[0m\" \u001b[32m200 OK\u001b[0m\n",
      "\u001b[32mINFO\u001b[0m:     127.0.0.1:45448 - \"\u001b[1mGET /-/static/codemirror-5.57.0-sql.min.js HTTP/1.1\u001b[0m\" \u001b[32m200 OK\u001b[0m\n",
      "\u001b[32mINFO\u001b[0m:     127.0.0.1:45450 - \"\u001b[1mGET /-/static/sql-formatter-2.3.3.min.js HTTP/1.1\u001b[0m\" \u001b[32m200 OK\u001b[0m\n",
      "\u001b[32mINFO\u001b[0m:     127.0.0.1:45446 - \"\u001b[1mGET /-/static/codemirror-5.57.0.min.css HTTP/1.1\u001b[0m\" \u001b[32m200 OK\u001b[0m\n",
      "\u001b[32mINFO\u001b[0m:     127.0.0.1:45454 - \"\u001b[1mGET /-/static/cm-resize-1.0.1.min.js HTTP/1.1\u001b[0m\" \u001b[32m200 OK\u001b[0m\n",
      "\u001b[32mINFO\u001b[0m:     127.0.0.1:45444 - \"\u001b[1mGET /gdb/gdb-2021-full-dataset HTTP/1.1\u001b[0m\" \u001b[32m200 OK\u001b[0m\n",
      "\u001b[32mINFO\u001b[0m:     127.0.0.1:45444 - \"\u001b[1mGET /-/static/app.css?cead5a HTTP/1.1\u001b[0m\" \u001b[32m200 OK\u001b[0m\n",
      "\u001b[32mINFO\u001b[0m:     127.0.0.1:45456 - \"\u001b[1mGET /-/static/table.js HTTP/1.1\u001b[0m\" \u001b[32m200 OK\u001b[0m\n",
      "\u001b[32mINFO\u001b[0m:     127.0.0.1:45464 - \"\u001b[1mGET /gdb/gdb-2021-full-dataset?_facet=country HTTP/1.1\u001b[0m\" \u001b[32m200 OK\u001b[0m\n",
      "\u001b[32mINFO\u001b[0m:     127.0.0.1:45464 - \"\u001b[1mGET /-/static/app.css?cead5a HTTP/1.1\u001b[0m\" \u001b[32m200 OK\u001b[0m\n",
      "\u001b[32mINFO\u001b[0m:     127.0.0.1:45466 - \"\u001b[1mGET /-/static/table.js HTTP/1.1\u001b[0m\" \u001b[32m200 OK\u001b[0m\n",
      "\u001b[32mINFO\u001b[0m:     127.0.0.1:45464 - \"\u001b[1mGET /gdb/gdb-2021-full-dataset?_facet=country&country=Brazil HTTP/1.1\u001b[0m\" \u001b[32m200 OK\u001b[0m\n",
      "\u001b[32mINFO\u001b[0m:     127.0.0.1:45464 - \"\u001b[1mGET /-/static/app.css?cead5a HTTP/1.1\u001b[0m\" \u001b[32m200 OK\u001b[0m\n",
      "\u001b[32mINFO\u001b[0m:     127.0.0.1:45468 - \"\u001b[1mGET /-/static/table.js HTTP/1.1\u001b[0m\" \u001b[32m200 OK\u001b[0m\n",
      "\u001b[32mINFO\u001b[0m:     127.0.0.1:45470 - \"\u001b[1mGET /gdb/gdb-2021-full-dataset HTTP/1.1\u001b[0m\" \u001b[32m200 OK\u001b[0m\n",
      "\u001b[32mINFO\u001b[0m:     127.0.0.1:45470 - \"\u001b[1mGET /-/static/app.css?cead5a HTTP/1.1\u001b[0m\" \u001b[32m200 OK\u001b[0m\n",
      "\u001b[32mINFO\u001b[0m:     127.0.0.1:45472 - \"\u001b[1mGET /-/static/table.js HTTP/1.1\u001b[0m\" \u001b[32m200 OK\u001b[0m\n",
      "\u001b[32mINFO\u001b[0m:     127.0.0.1:45474 - \"\u001b[1mGET /gdb/gdb-2021-full-dataset?_facet=country HTTP/1.1\u001b[0m\" \u001b[32m200 OK\u001b[0m\n",
      "\u001b[32mINFO\u001b[0m:     127.0.0.1:45474 - \"\u001b[1mGET /-/static/app.css?cead5a HTTP/1.1\u001b[0m\" \u001b[32m200 OK\u001b[0m\n",
      "\u001b[32mINFO\u001b[0m:     127.0.0.1:45476 - \"\u001b[1mGET /-/static/table.js HTTP/1.1\u001b[0m\" \u001b[32m200 OK\u001b[0m\n",
      "\u001b[32mINFO\u001b[0m:     127.0.0.1:45478 - \"\u001b[1mGET /gdb/gdb-2021-full-dataset?_facet=country&country=Brazil HTTP/1.1\u001b[0m\" \u001b[32m200 OK\u001b[0m\n",
      "\u001b[32mINFO\u001b[0m:     127.0.0.1:45478 - \"\u001b[1mGET /-/static/app.css?cead5a HTTP/1.1\u001b[0m\" \u001b[32m200 OK\u001b[0m\n",
      "\u001b[32mINFO\u001b[0m:     127.0.0.1:45480 - \"\u001b[1mGET /-/static/table.js HTTP/1.1\u001b[0m\" \u001b[32m200 OK\u001b[0m\n",
      "\u001b[32mINFO\u001b[0m:     127.0.0.1:45482 - \"\u001b[1mGET /gdb?sql=select+rowid%2C+iso3%2C+country%2C+pillar%2C+module%2C+indicator_id%2C+indicator_name%2C+indicator_type%2C+variable_name%2C+question%2C+hierarchy_level%2C+data_type%2C+response%2C+response_value%2C+normalized_response_value%2C+weight%2C+score%2C+parent%2C+row_order%2C+question_order%2C+wip%2C+wib%2C+wim%2C+regional_hub%2C+un_region%2C+barometer_region+from+%5Bgdb-2021-full-dataset%5D+where+%22country%22+%3D+%3Ap0+order+by+rowid+limit+101&p0=Brazil HTTP/1.1\u001b[0m\" \u001b[32m200 OK\u001b[0m\n",
      "\u001b[32mINFO\u001b[0m:     127.0.0.1:45482 - \"\u001b[1mGET /-/static/app.css?cead5a HTTP/1.1\u001b[0m\" \u001b[32m200 OK\u001b[0m\n",
      "\u001b[32mINFO\u001b[0m:     127.0.0.1:45486 - \"\u001b[1mGET /-/static/codemirror-5.57.0.min.js HTTP/1.1\u001b[0m\" \u001b[32m200 OK\u001b[0m\n",
      "\u001b[32mINFO\u001b[0m:     127.0.0.1:45484 - \"\u001b[1mGET /-/static/sql-formatter-2.3.3.min.js HTTP/1.1\u001b[0m\" \u001b[32m200 OK\u001b[0m\n",
      "\u001b[32mINFO\u001b[0m:     127.0.0.1:45490 - \"\u001b[1mGET /-/static/codemirror-5.57.0-sql.min.js HTTP/1.1\u001b[0m\" \u001b[32m200 OK\u001b[0m\n",
      "\u001b[32mINFO\u001b[0m:     127.0.0.1:45488 - \"\u001b[1mGET /-/static/codemirror-5.57.0.min.css HTTP/1.1\u001b[0m\" \u001b[32m200 OK\u001b[0m\n",
      "\u001b[32mINFO\u001b[0m:     127.0.0.1:45494 - \"\u001b[1mGET /-/static/cm-resize-1.0.1.min.js HTTP/1.1\u001b[0m\" \u001b[32m200 OK\u001b[0m\n",
      "\u001b[32mINFO\u001b[0m:     127.0.0.1:45496 - \"\u001b[1mGET /gdb?sql=select+country%2C+question%2C+response+from+%5Bgdb-2021-full-dataset%5D+where+%22country%22+%3D+%3Ap0+order+by+rowid+limit+101&p0=Brazil HTTP/1.1\u001b[0m\" \u001b[32m200 OK\u001b[0m\n",
      "\u001b[32mINFO\u001b[0m:     127.0.0.1:45496 - \"\u001b[1mGET /-/static/app.css?cead5a HTTP/1.1\u001b[0m\" \u001b[32m200 OK\u001b[0m\n",
      "\u001b[32mINFO\u001b[0m:     127.0.0.1:45498 - \"\u001b[1mGET /-/static/sql-formatter-2.3.3.min.js HTTP/1.1\u001b[0m\" \u001b[32m200 OK\u001b[0m\n",
      "\u001b[32mINFO\u001b[0m:     127.0.0.1:45500 - \"\u001b[1mGET /-/static/codemirror-5.57.0.min.js HTTP/1.1\u001b[0m\" \u001b[32m200 OK\u001b[0m\n",
      "\u001b[32mINFO\u001b[0m:     127.0.0.1:45504 - \"\u001b[1mGET /-/static/codemirror-5.57.0-sql.min.js HTTP/1.1\u001b[0m\" \u001b[32m200 OK\u001b[0m\n",
      "\u001b[32mINFO\u001b[0m:     127.0.0.1:45502 - \"\u001b[1mGET /-/static/codemirror-5.57.0.min.css HTTP/1.1\u001b[0m\" \u001b[32m200 OK\u001b[0m\n",
      "\u001b[32mINFO\u001b[0m:     127.0.0.1:45506 - \"\u001b[1mGET /-/static/cm-resize-1.0.1.min.js HTTP/1.1\u001b[0m\" \u001b[32m200 OK\u001b[0m\n",
      "\u001b[32mINFO\u001b[0m:     127.0.0.1:45508 - \"\u001b[1mGET /gdb.json?sql=select+country%2C+question%2C+response+from+%5Bgdb-2021-full-dataset%5D+where+%22country%22+%3D+%3Ap0+order+by+rowid+limit+101&p0=Brazil HTTP/1.1\u001b[0m\" \u001b[32m200 OK\u001b[0m\n",
      "\u001b[32mINFO\u001b[0m:     127.0.0.1:45510 - \"\u001b[1mGET /gdb.json?sql=select+country%2C+question%2C+response+from+%5Bgdb-2021-full-dataset%5D+where+%22country%22+%3D+%3Ap0+order+by+rowid+limit+101&p0=Brazil HTTP/1.1\u001b[0m\" \u001b[32m200 OK\u001b[0m\n",
      "\u001b[32mINFO\u001b[0m:     127.0.0.1:45512 - \"\u001b[1mGET /gdb.csv?sql=select+country%2C+question%2C+response+from+%5Bgdb-2021-full-dataset%5D+where+%22country%22+%3D+%3Ap0+order+by+rowid+limit+101&p0=Brazil&_size=max HTTP/1.1\u001b[0m\" \u001b[32m200 OK\u001b[0m\n",
      "^C\n",
      "\u001b[32mINFO\u001b[0m:     Shutting down\n",
      "\u001b[32mINFO\u001b[0m:     Waiting for application shutdown.\n",
      "\u001b[32mINFO\u001b[0m:     Application shutdown complete.\n",
      "\u001b[32mINFO\u001b[0m:     Finished server process [\u001b[36m114045\u001b[0m]\n"
     ]
    }
   ],
   "source": [
    "!datasette gdb.db"
   ]
  },
  {
   "cell_type": "markdown",
   "id": "b342d71b",
   "metadata": {},
   "source": [
    "## 0. Open Datasette in the browser at http://localhost:8001"
   ]
  },
  {
   "cell_type": "markdown",
   "id": "1dc08e1b",
   "metadata": {},
   "source": [
    "## 1. Click on gdb-2021-full-dataset to see the table"
   ]
  },
  {
   "cell_type": "markdown",
   "id": "8fd31166",
   "metadata": {},
   "source": [
    "![](step1.png)"
   ]
  },
  {
   "cell_type": "markdown",
   "id": "b5a5ea41",
   "metadata": {},
   "source": [
    "## 2. Click on Country > Facet by this \n",
    "\n",
    "![](step2.png)"
   ]
  },
  {
   "cell_type": "markdown",
   "id": "ff3d182a",
   "metadata": {},
   "source": [
    "## 3. Select a country (my case Brazil)\n",
    "\n",
    "![](step3.png)"
   ]
  },
  {
   "cell_type": "markdown",
   "id": "744f2c19",
   "metadata": {},
   "source": [
    "## 4. Click View and edit sql\n",
    "\n",
    "![](step4.png)"
   ]
  },
  {
   "cell_type": "markdown",
   "id": "73b8124e",
   "metadata": {},
   "source": [
    "## 5. Edit the SQL removing all the columns except country, question and response\n",
    "\n",
    "![](step5.png)"
   ]
  },
  {
   "cell_type": "markdown",
   "id": "7fe39698",
   "metadata": {},
   "source": [
    "## 6. Download the results as CSV and JSON\n",
    "\n",
    "![](step6.png)"
   ]
  }
 ],
 "metadata": {
  "kernelspec": {
   "display_name": "Python 3 (ipykernel)",
   "language": "python",
   "name": "python3"
  },
  "language_info": {
   "codemirror_mode": {
    "name": "ipython",
    "version": 3
   },
   "file_extension": ".py",
   "mimetype": "text/x-python",
   "name": "python",
   "nbconvert_exporter": "python",
   "pygments_lexer": "ipython3",
   "version": "3.8.12"
  }
 },
 "nbformat": 4,
 "nbformat_minor": 5
}
